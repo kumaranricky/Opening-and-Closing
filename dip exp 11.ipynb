{
 "cells": [
  {
   "cell_type": "code",
   "execution_count": 1,
   "id": "69c94dde",
   "metadata": {},
   "outputs": [],
   "source": [
    "import cv2\n",
    "import numpy as np\n",
    "import matplotlib.pyplot as plt"
   ]
  },
  {
   "cell_type": "code",
   "execution_count": 49,
   "id": "fc710210",
   "metadata": {},
   "outputs": [],
   "source": [
    "img1=np.zeros((300,500),dtype='uint8')\n",
    "font=cv2.FONT_ITALIC\n",
    "img2=cv2.putText(img1,\"Kumaran\",(5,70),font,3,(255,0,0),5,cv2.LINE_AA)\n",
    "cv2.imshow(\"Original\",img2)\n",
    "cv2.waitKey(0)\n",
    "cv2.destroyAllWindows()"
   ]
  },
  {
   "cell_type": "code",
   "execution_count": 3,
   "id": "2a49bf1f",
   "metadata": {},
   "outputs": [],
   "source": [
    "# structuring element"
   ]
  },
  {
   "cell_type": "code",
   "execution_count": 44,
   "id": "22efc59f",
   "metadata": {},
   "outputs": [],
   "source": [
    "kernel1=cv2.getStructuringElement(cv2.MORPH_RECT,(21,21))"
   ]
  },
  {
   "cell_type": "code",
   "execution_count": 45,
   "id": "a705982d",
   "metadata": {},
   "outputs": [],
   "source": [
    "kernel2=cv2.getStructuringElement(cv2.MORPH_RECT,(9,9))"
   ]
  },
  {
   "cell_type": "code",
   "execution_count": 46,
   "id": "f9e821cc",
   "metadata": {},
   "outputs": [],
   "source": [
    "# close"
   ]
  },
  {
   "cell_type": "code",
   "execution_count": 48,
   "id": "105feb14",
   "metadata": {},
   "outputs": [],
   "source": [
    "img3=cv2.morphologyEx(img1,cv2.MORPH_CLOSE,kernel1)\n",
    "cv2.imshow(\"Closing\",img3)\n",
    "cv2.waitKey(0)\n",
    "cv2.destroyAllWindows()"
   ]
  },
  {
   "cell_type": "code",
   "execution_count": 8,
   "id": "7c86b449",
   "metadata": {},
   "outputs": [],
   "source": [
    "# open"
   ]
  },
  {
   "cell_type": "code",
   "execution_count": 25,
   "id": "fbb33a30",
   "metadata": {},
   "outputs": [],
   "source": [
    "img4=cv2.morphologyEx(img1,cv2.MORPH_OPEN,kernel2)\n",
    "cv2.imshow(\"Opening\",img4)\n",
    "cv2.waitKey(0)\n",
    "cv2.destroyAllWindows()"
   ]
  },
  {
   "cell_type": "code",
   "execution_count": null,
   "id": "8ece54ec",
   "metadata": {},
   "outputs": [],
   "source": []
  }
 ],
 "metadata": {
  "kernelspec": {
   "display_name": "Python 3",
   "language": "python",
   "name": "python3"
  },
  "language_info": {
   "codemirror_mode": {
    "name": "ipython",
    "version": 3
   },
   "file_extension": ".py",
   "mimetype": "text/x-python",
   "name": "python",
   "nbconvert_exporter": "python",
   "pygments_lexer": "ipython3",
   "version": "3.8.8"
  }
 },
 "nbformat": 4,
 "nbformat_minor": 5
}
